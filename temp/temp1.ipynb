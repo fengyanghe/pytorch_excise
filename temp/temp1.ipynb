{
 "cells": [
  {
   "cell_type": "code",
   "execution_count": 26,
   "metadata": {
    "collapsed": true
   },
   "outputs": [],
   "source": [
    "import torch\n",
    "from torch.autograd import Variable\n",
    "import torch.nn as nn\n",
    "import torch.optim as opt\n",
    "import matplotlib as mpl\n",
    "import matplotlib.pyplot as plt\n",
    "import seaborn as sns\n",
    "import torch.nn.functional as F"
   ]
  },
  {
   "cell_type": "code",
   "execution_count": 31,
   "metadata": {
    "collapsed": true
   },
   "outputs": [],
   "source": [
    "x = torch.unsqueeze(torch.linspace(-3,3,100),1)\n",
    "y = torch.sin(x) + torch.rand(100,1)"
   ]
  },
  {
   "cell_type": "code",
   "execution_count": 32,
   "metadata": {},
   "outputs": [
    {
     "data": {
      "text/plain": [
       "(torch.Size([100, 1]), torch.Size([100, 1]), 'torch.FloatTensor')"
      ]
     },
     "execution_count": 32,
     "metadata": {},
     "output_type": "execute_result"
    }
   ],
   "source": [
    "x.size(),y.size(),x.type()"
   ]
  },
  {
   "cell_type": "code",
   "execution_count": 33,
   "metadata": {},
   "outputs": [
    {
     "data": {
      "text/plain": [
       "<matplotlib.collections.PathCollection at 0x7fa426113a58>"
      ]
     },
     "execution_count": 33,
     "metadata": {},
     "output_type": "execute_result"
    }
   ],
   "source": [
    "plt.scatter(x.numpy(),y.numpy())"
   ]
  },
  {
   "cell_type": "code",
   "execution_count": 10,
   "metadata": {},
   "outputs": [
    {
     "data": {
      "image/png": "[encoded data removed]",
      "text/plain": [
       "<matplotlib.figure.Figure at 0x7fa42ffca320>"
      ]
     },
     "metadata": {},
     "output_type": "display_data"
    }
   ],
   "source": []
  },
  {
   "cell_type": "code",
   "execution_count": 38,
   "metadata": {
    "collapsed": true
   },
   "outputs": [],
   "source": [
    "model1 = nn.Sequential(\n",
    "    nn.Linear(1,10),\n",
    "    nn.Linear(10,1),\n",
    "    nn.Tanh()\n",
    ")"
   ]
  },
  {
   "cell_type": "code",
   "execution_count": 39,
   "metadata": {},
   "outputs": [
    {
     "ename": "RuntimeError",
     "evalue": "Variable data has to be a tensor, but got Variable",
     "output_type": "error",
     "traceback": [
      "\u001b[0;31m---------------------------------------------------------------------------\u001b[0m",
      "\u001b[0;31mRuntimeError\u001b[0m                              Traceback (most recent call last)",
      "\u001b[0;32m<ipython-input-39-210486b544cf>\u001b[0m in \u001b[0;36m<module>\u001b[0;34m()\u001b[0m\n\u001b[1;32m      1\u001b[0m \u001b[0mopt1\u001b[0m \u001b[0;34m=\u001b[0m \u001b[0mopt\u001b[0m\u001b[0;34m.\u001b[0m\u001b[0mSGD\u001b[0m\u001b[0;34m(\u001b[0m\u001b[0mmodel1\u001b[0m\u001b[0;34m.\u001b[0m\u001b[0mparameters\u001b[0m\u001b[0;34m(\u001b[0m\u001b[0;34m)\u001b[0m\u001b[0;34m,\u001b[0m\u001b[0mlr\u001b[0m\u001b[0;34m=\u001b[0m\u001b[0;36m0.001\u001b[0m\u001b[0;34m)\u001b[0m\u001b[0;34m\u001b[0m\u001b[0m\n\u001b[1;32m      2\u001b[0m \u001b[0mloss\u001b[0m \u001b[0;34m=\u001b[0m \u001b[0mnn\u001b[0m\u001b[0;34m.\u001b[0m\u001b[0mMSELoss\u001b[0m\u001b[0;34m(\u001b[0m\u001b[0;34m)\u001b[0m\u001b[0;34m\u001b[0m\u001b[0m\n\u001b[0;32m----> 3\u001b[0;31m \u001b[0mx\u001b[0m \u001b[0;34m=\u001b[0m \u001b[0mVariable\u001b[0m\u001b[0;34m(\u001b[0m\u001b[0mx\u001b[0m\u001b[0;34m)\u001b[0m\u001b[0;34m\u001b[0m\u001b[0m\n\u001b[0m\u001b[1;32m      4\u001b[0m \u001b[0my\u001b[0m \u001b[0;34m=\u001b[0m \u001b[0mVariable\u001b[0m\u001b[0;34m(\u001b[0m\u001b[0my\u001b[0m\u001b[0;34m)\u001b[0m\u001b[0;34m\u001b[0m\u001b[0m\n",
      "\u001b[0;31mRuntimeError\u001b[0m: Variable data has to be a tensor, but got Variable"
     ]
    }
   ],
   "source": [
    "opt1 = opt.SGD(model1.parameters(),lr=0.001)\n",
    "loss = nn.MSELoss()\n",
    "x = Variable(x)\n",
    "y = Variable(y)"
   ]
  },
  {
   "cell_type": "code",
   "execution_count": 42,
   "metadata": {},
   "outputs": [
    {
     "name": "stdout",
     "output_type": "stream",
     "text": [
      "Variable containing:\n",
      " 0.3176\n",
      "[torch.FloatTensor of size 1]\n",
      "\n",
      "Variable containing:\n",
      " 0.3027\n",
      "[torch.FloatTensor of size 1]\n",
      "\n",
      "Variable containing:\n",
      " 0.2971\n",
      "[torch.FloatTensor of size 1]\n",
      "\n",
      "Variable containing:\n",
      " 0.2946\n",
      "[torch.FloatTensor of size 1]\n",
      "\n",
      "Variable containing:\n",
      " 0.2931\n",
      "[torch.FloatTensor of size 1]\n",
      "\n",
      "Variable containing:\n",
      " 0.2923\n",
      "[torch.FloatTensor of size 1]\n",
      "\n",
      "Variable containing:\n",
      " 0.2917\n",
      "[torch.FloatTensor of size 1]\n",
      "\n",
      "Variable containing:\n",
      " 0.2913\n",
      "[torch.FloatTensor of size 1]\n",
      "\n",
      "Variable containing:\n",
      " 0.2911\n",
      "[torch.FloatTensor of size 1]\n",
      "\n",
      "Variable containing:\n",
      " 0.2909\n",
      "[torch.FloatTensor of size 1]\n",
      "\n"
     ]
    },
    {
     "data": {
      "text/plain": [
       "[<matplotlib.lines.Line2D at 0x7fa425fba208>]"
      ]
     },
     "execution_count": 42,
     "metadata": {},
     "output_type": "execute_result"
    }
   ],
   "source": [
    "for i in range(1000):\n",
    "    yy = model1(x)\n",
    "    l = loss(yy,y)\n",
    "    opt1.zero_grad()\n",
    "    l.backward()\n",
    "    opt1.step()\n",
    "    if i % 100 == 0:\n",
    "        print(l)\n",
    "\n",
    "yy = model1(x)\n",
    "plt.plot(x.data.numpy(),yy.data.numpy())\n",
    "        \n",
    "    "
   ]
  },
  {
   "cell_type": "code",
   "execution_count": 43,
   "metadata": {},
   "outputs": [
    {
     "data": {
      "image/png": "[encoded data removed]",
      "text/plain": [
       "<matplotlib.figure.Figure at 0x7fa426047358>"
      ]
     },
     "metadata": {},
     "output_type": "display_data"
    }
   ],
   "source": [
    "plt.show()"
   ]
  },
  {
   "cell_type": "code",
   "execution_count": 1,
   "metadata": {
    "collapsed": true
   },
   "outputs": [],
   "source": [
    "import sklearn"
   ]
  },
  {
   "cell_type": "code",
   "execution_count": 20,
   "metadata": {
    "collapsed": true
   },
   "outputs": [],
   "source": [
    "import sklearn\n",
    "import sklearn.naive_bayes as nb"
   ]
  },
  {
   "cell_type": "code",
   "execution_count": 21,
   "metadata": {
    "collapsed": true
   },
   "outputs": [],
   "source": [
    "from sklearn.preprocessing import LabelEncoder"
   ]
  },
  {
   "cell_type": "code",
   "execution_count": 22,
   "metadata": {
    "collapsed": true
   },
   "outputs": [],
   "source": [
    "from sklearn.preprocessing import  OneHotEncoder"
   ]
  },
  {
   "cell_type": "code",
   "execution_count": 23,
   "metadata": {
    "collapsed": true
   },
   "outputs": [],
   "source": [
    "from sklearn.datasets import make_classification"
   ]
  },
  {
   "cell_type": "code",
   "execution_count": 24,
   "metadata": {
    "collapsed": true
   },
   "outputs": [],
   "source": [
    "x,y = make_classification()"
   ]
  },
  {
   "cell_type": "code",
   "execution_count": 27,
   "metadata": {
    "collapsed": true
   },
   "outputs": [],
   "source": [
    "import matplotlib.pyplot as plt\n",
    "import numpy as np\n"
   ]
  },
  {
   "cell_type": "code",
   "execution_count": 28,
   "metadata": {},
   "outputs": [
    {
     "data": {
      "text/plain": [
       "array([0, 1])"
      ]
     },
     "execution_count": 28,
     "metadata": {},
     "output_type": "execute_result"
    }
   ],
   "source": [
    "np.unique(y)"
   ]
  },
  {
   "cell_type": "code",
   "execution_count": 36,
   "metadata": {},
   "outputs": [
    {
     "data": {
      "image/png": "[encoded data removed]",
      "text/plain": [
       "<matplotlib.figure.Figure at 0x7fedb1126860>"
      ]
     },
     "metadata": {},
     "output_type": "display_data"
    }
   ],
   "source": [
    "plt.subplot(121)\n",
    "plt.scatter(x[y==0][:,0],x[y==0][:,1],c='b')\n",
    "plt.scatter(x[y==1][:,0],x[y==1][:,1],c='r')\n",
    "plt.subplot(122)\n",
    "plt.scatter(x[y_==0][:,0],x[y_==0][:,1],c='b')\n",
    "plt.scatter(x[y_==1][:,0],x[y_==1][:,1],c='r')\n",
    "plt.show()"
   ]
  },
  {
   "cell_type": "code",
   "execution_count": 55,
   "metadata": {},
   "outputs": [],
   "source": [
    "gbb = nb.BernoulliNB()"
   ]
  },
  {
   "cell_type": "code",
   "execution_count": 56,
   "metadata": {},
   "outputs": [
    {
     "data": {
      "text/plain": [
       "BernoulliNB(alpha=1.0, binarize=0.0, class_prior=None, fit_prior=True)"
      ]
     },
     "execution_count": 56,
     "metadata": {},
     "output_type": "execute_result"
    }
   ],
   "source": [
    "gbb.fit(x,y)"
   ]
  },
  {
   "cell_type": "code",
   "execution_count": 49,
   "metadata": {
    "collapsed": true
   },
   "outputs": [],
   "source": [
    "y_ = gbb.predict(x)"
   ]
  },
  {
   "cell_type": "code",
   "execution_count": 58,
   "metadata": {},
   "outputs": [],
   "source": [
    "from sklearn.cross_validation import KFold"
   ]
  },
  {
   "cell_type": "code",
   "execution_count": 59,
   "metadata": {},
   "outputs": [],
   "source": [
    "from sklearn.model_selection import cross_val_score, learning_curve "
   ]
  },
  {
   "cell_type": "code",
   "execution_count": 61,
   "metadata": {},
   "outputs": [
    {
     "data": {
      "text/plain": [
       "array([ 1. ,  0.8,  1. ,  0.9,  0.6,  1. ,  0.6,  0.8,  0.8,  1. ])"
      ]
     },
     "execution_count": 61,
     "metadata": {},
     "output_type": "execute_result"
    }
   ],
   "source": [
    "cross_val_score(gbb,x,y,cv=10)"
   ]
  },
  {
   "cell_type": "code",
   "execution_count": 74,
   "metadata": {
    "scrolled": true
   },
   "outputs": [
    {
     "name": "stderr",
     "output_type": "stream",
     "text": [
      "/home/yannick/anaconda2/envs/tensorflow/lib/python3.6/site-packages/sklearn/model_selection/_validation.py:837: RuntimeWarning: Removed duplicate entries from 'train_sizes'. Number of ticks will be less than the size of 'train_sizes' 49 instead of 50).\n",
      "  % (train_sizes_abs.shape[0], n_ticks), RuntimeWarning)\n",
      "/home/yannick/anaconda2/envs/tensorflow/lib/python3.6/site-packages/sklearn/naive_bayes.py:455: RuntimeWarning: divide by zero encountered in log\n",
      "  self.class_log_prior_ = (np.log(self.class_count_) -\n",
      "/home/yannick/anaconda2/envs/tensorflow/lib/python3.6/site-packages/sklearn/naive_bayes.py:455: RuntimeWarning: divide by zero encountered in log\n",
      "  self.class_log_prior_ = (np.log(self.class_count_) -\n",
      "/home/yannick/anaconda2/envs/tensorflow/lib/python3.6/site-packages/sklearn/naive_bayes.py:455: RuntimeWarning: divide by zero encountered in log\n",
      "  self.class_log_prior_ = (np.log(self.class_count_) -\n",
      "/home/yannick/anaconda2/envs/tensorflow/lib/python3.6/site-packages/sklearn/naive_bayes.py:455: RuntimeWarning: divide by zero encountered in log\n",
      "  self.class_log_prior_ = (np.log(self.class_count_) -\n",
      "/home/yannick/anaconda2/envs/tensorflow/lib/python3.6/site-packages/sklearn/naive_bayes.py:455: RuntimeWarning: divide by zero encountered in log\n",
      "  self.class_log_prior_ = (np.log(self.class_count_) -\n",
      "/home/yannick/anaconda2/envs/tensorflow/lib/python3.6/site-packages/sklearn/naive_bayes.py:455: RuntimeWarning: divide by zero encountered in log\n",
      "  self.class_log_prior_ = (np.log(self.class_count_) -\n",
      "/home/yannick/anaconda2/envs/tensorflow/lib/python3.6/site-packages/sklearn/naive_bayes.py:455: RuntimeWarning: divide by zero encountered in log\n",
      "  self.class_log_prior_ = (np.log(self.class_count_) -\n",
      "/home/yannick/anaconda2/envs/tensorflow/lib/python3.6/site-packages/sklearn/naive_bayes.py:455: RuntimeWarning: divide by zero encountered in log\n",
      "  self.class_log_prior_ = (np.log(self.class_count_) -\n",
      "/home/yannick/anaconda2/envs/tensorflow/lib/python3.6/site-packages/sklearn/naive_bayes.py:455: RuntimeWarning: divide by zero encountered in log\n",
      "  self.class_log_prior_ = (np.log(self.class_count_) -\n",
      "/home/yannick/anaconda2/envs/tensorflow/lib/python3.6/site-packages/sklearn/naive_bayes.py:455: RuntimeWarning: divide by zero encountered in log\n",
      "  self.class_log_prior_ = (np.log(self.class_count_) -\n",
      "/home/yannick/anaconda2/envs/tensorflow/lib/python3.6/site-packages/sklearn/naive_bayes.py:455: RuntimeWarning: divide by zero encountered in log\n",
      "  self.class_log_prior_ = (np.log(self.class_count_) -\n"
     ]
    }
   ],
   "source": [
    "_, train, test = learning_curve(gbb,x,y,train_sizes=np.linspace(0.001,1,50))"
   ]
  },
  {
   "cell_type": "code",
   "execution_count": 75,
   "metadata": {},
   "outputs": [
    {
     "data": {
      "text/plain": [
       "(array([[ 1.        ,  1.        ,  1.        ],\n",
       "        [ 1.        ,  1.        ,  1.        ],\n",
       "        [ 1.        ,  1.        ,  1.        ],\n",
       "        [ 1.        ,  1.        ,  1.        ],\n",
       "        [ 1.        ,  1.        ,  1.        ],\n",
       "        [ 1.        ,  1.        ,  1.        ],\n",
       "        [ 1.        ,  1.        ,  1.        ],\n",
       "        [ 1.        ,  1.        ,  1.        ],\n",
       "        [ 1.        ,  1.        ,  1.        ],\n",
       "        [ 1.        ,  1.        ,  1.        ],\n",
       "        [ 1.        ,  0.92857143,  0.92857143],\n",
       "        [ 0.9375    ,  0.9375    ,  0.9375    ],\n",
       "        [ 0.94117647,  0.94117647,  0.94117647],\n",
       "        [ 0.94444444,  1.        ,  1.        ],\n",
       "        [ 0.95      ,  0.95      ,  0.95      ],\n",
       "        [ 0.95238095,  0.95238095,  0.95238095],\n",
       "        [ 0.95454545,  0.95454545,  0.95454545],\n",
       "        [ 0.95833333,  0.91666667,  0.91666667],\n",
       "        [ 0.96      ,  0.92      ,  0.92      ],\n",
       "        [ 0.96153846,  0.96153846,  0.96153846],\n",
       "        [ 0.85714286,  0.96428571,  0.96428571],\n",
       "        [ 0.86206897,  0.96551724,  0.96551724],\n",
       "        [ 0.83870968,  0.93548387,  0.93548387],\n",
       "        [ 0.8125    ,  0.9375    ,  0.9375    ],\n",
       "        [ 0.81818182,  0.93939394,  0.93939394],\n",
       "        [ 0.85714286,  0.91428571,  0.94285714],\n",
       "        [ 0.83333333,  0.88888889,  0.94444444],\n",
       "        [ 0.81081081,  0.91891892,  0.94594595],\n",
       "        [ 0.76923077,  0.92307692,  0.94871795],\n",
       "        [ 0.775     ,  0.925     ,  0.9       ],\n",
       "        [ 0.7804878 ,  0.92682927,  0.90243902],\n",
       "        [ 0.79069767,  0.93023256,  0.93023256],\n",
       "        [ 0.79545455,  0.93181818,  0.90909091],\n",
       "        [ 0.82222222,  0.93333333,  0.93333333],\n",
       "        [ 0.85106383,  0.93617021,  0.93617021],\n",
       "        [ 0.85416667,  0.9375    ,  0.89583333],\n",
       "        [ 0.83673469,  0.91836735,  0.89795918],\n",
       "        [ 0.82352941,  0.90196078,  0.90196078],\n",
       "        [ 0.80769231,  0.88461538,  0.86538462],\n",
       "        [ 0.81132075,  0.88679245,  0.86792453],\n",
       "        [ 0.81818182,  0.87272727,  0.89090909],\n",
       "        [ 0.82142857,  0.875     ,  0.89285714],\n",
       "        [ 0.8245614 ,  0.87719298,  0.89473684],\n",
       "        [ 0.81355932,  0.88135593,  0.88135593],\n",
       "        [ 0.83333333,  0.88333333,  0.88333333],\n",
       "        [ 0.80327869,  0.8852459 ,  0.8852459 ],\n",
       "        [ 0.80952381,  0.88888889,  0.88888889],\n",
       "        [ 0.8125    ,  0.890625  ,  0.890625  ],\n",
       "        [ 0.81818182,  0.89393939,  0.84848485]]),\n",
       " array([[ 0.5       ,  0.5       ,  0.5       ],\n",
       "        [ 0.5       ,  0.5       ,  0.5       ],\n",
       "        [ 0.5       ,  0.5       ,  0.5       ],\n",
       "        [ 0.5       ,  0.67647059,  0.6875    ],\n",
       "        [ 0.5       ,  0.64705882,  0.6875    ],\n",
       "        [ 0.64705882,  0.64705882,  0.75      ],\n",
       "        [ 0.70588235,  0.64705882,  0.78125   ],\n",
       "        [ 0.82352941,  0.61764706,  0.8125    ],\n",
       "        [ 0.85294118,  0.67647059,  0.71875   ],\n",
       "        [ 0.82352941,  0.67647059,  0.71875   ],\n",
       "        [ 0.79411765,  0.70588235,  0.71875   ],\n",
       "        [ 0.85294118,  0.73529412,  0.71875   ],\n",
       "        [ 0.70588235,  0.67647059,  0.71875   ],\n",
       "        [ 0.70588235,  0.73529412,  0.75      ],\n",
       "        [ 0.76470588,  0.67647059,  0.84375   ],\n",
       "        [ 0.73529412,  0.70588235,  0.8125    ],\n",
       "        [ 0.76470588,  0.76470588,  0.78125   ],\n",
       "        [ 0.79411765,  0.76470588,  0.875     ],\n",
       "        [ 0.79411765,  0.70588235,  0.8125    ],\n",
       "        [ 0.79411765,  0.73529412,  0.8125    ],\n",
       "        [ 0.82352941,  0.70588235,  0.84375   ],\n",
       "        [ 0.85294118,  0.67647059,  0.84375   ],\n",
       "        [ 0.85294118,  0.73529412,  0.875     ],\n",
       "        [ 0.88235294,  0.76470588,  0.875     ],\n",
       "        [ 0.91176471,  0.76470588,  0.875     ],\n",
       "        [ 0.91176471,  0.76470588,  0.875     ],\n",
       "        [ 0.91176471,  0.73529412,  0.875     ],\n",
       "        [ 0.91176471,  0.76470588,  0.875     ],\n",
       "        [ 0.91176471,  0.73529412,  0.875     ],\n",
       "        [ 0.91176471,  0.76470588,  0.875     ],\n",
       "        [ 0.91176471,  0.76470588,  0.875     ],\n",
       "        [ 0.91176471,  0.76470588,  0.875     ],\n",
       "        [ 0.91176471,  0.76470588,  0.875     ],\n",
       "        [ 0.94117647,  0.76470588,  0.875     ],\n",
       "        [ 0.91176471,  0.76470588,  0.875     ],\n",
       "        [ 0.94117647,  0.76470588,  0.875     ],\n",
       "        [ 0.94117647,  0.73529412,  0.875     ],\n",
       "        [ 0.91176471,  0.73529412,  0.875     ],\n",
       "        [ 0.91176471,  0.67647059,  0.875     ],\n",
       "        [ 0.91176471,  0.73529412,  0.875     ],\n",
       "        [ 0.94117647,  0.76470588,  0.875     ],\n",
       "        [ 0.94117647,  0.76470588,  0.875     ],\n",
       "        [ 0.94117647,  0.73529412,  0.875     ],\n",
       "        [ 0.94117647,  0.73529412,  0.875     ],\n",
       "        [ 0.94117647,  0.73529412,  0.875     ],\n",
       "        [ 0.94117647,  0.73529412,  0.875     ],\n",
       "        [ 0.91176471,  0.73529412,  0.875     ],\n",
       "        [ 0.88235294,  0.73529412,  0.875     ],\n",
       "        [ 0.91176471,  0.73529412,  0.875     ]]))"
      ]
     },
     "execution_count": 75,
     "metadata": {},
     "output_type": "execute_result"
    }
   ],
   "source": [
    "train, test"
   ]
  },
  {
   "cell_type": "code",
   "execution_count": 76,
   "metadata": {},
   "outputs": [],
   "source": [
    "train_score = np.sum(train,axis = 1)/3\n",
    "test_score = np.sum(test,axis = 1)/3"
   ]
  },
  {
   "cell_type": "code",
   "execution_count": 80,
   "metadata": {},
   "outputs": [
    {
     "data": {
      "image/png": "[encoded data removed]",
      "text/plain": [
       "<matplotlib.figure.Figure at 0x7fedb118d390>"
      ]
     },
     "metadata": {},
     "output_type": "display_data"
    }
   ],
   "source": [
    "plt.plot(range(train_score.shape[0]),train_score,range(train_score.shape[0]),test_score)\n",
    "plt.show()"
   ]
  },
  {
   "cell_type": "code",
   "execution_count": 82,
   "metadata": {},
   "outputs": [],
   "source": [
    "from sklearn.model_selection import GridSearchCV as gscv"
   ]
  },
  {
   "cell_type": "code",
   "execution_count": 84,
   "metadata": {},
   "outputs": [],
   "source": [
    "gscv_search = gscv(gbb,param_grid={'alpha':[0.1,0.5,1.0], 'binarize':[0.0,1]},n_jobs=4)"
   ]
  },
  {
   "cell_type": "code",
   "execution_count": 85,
   "metadata": {},
   "outputs": [
    {
     "data": {
      "text/plain": [
       "GridSearchCV(cv=None, error_score='raise',\n",
       "       estimator=BernoulliNB(alpha=1.0, binarize=0.0, class_prior=None, fit_prior=True),\n",
       "       fit_params={}, iid=True, n_jobs=4,\n",
       "       param_grid={'alpha': [0.1, 0.5, 1.0], 'binarize': [0.0, 1]},\n",
       "       pre_dispatch='2*n_jobs', refit=True, return_train_score=True,\n",
       "       scoring=None, verbose=0)"
      ]
     },
     "execution_count": 85,
     "metadata": {},
     "output_type": "execute_result"
    }
   ],
   "source": [
    "gscv_search.fit(x,y)"
   ]
  },
  {
   "cell_type": "code",
   "execution_count": 87,
   "metadata": {},
   "outputs": [
    {
     "data": {
      "text/plain": [
       "{'alpha': 0.1, 'binarize': 0.0}"
      ]
     },
     "execution_count": 87,
     "metadata": {},
     "output_type": "execute_result"
    }
   ],
   "source": [
    "gscv_search.best_params_"
   ]
  },
  {
   "cell_type": "code",
   "execution_count": 88,
   "metadata": {
    "collapsed": true
   },
   "outputs": [],
   "source": [
    "best = gscv_search.best_estimator_"
   ]
  },
  {
   "cell_type": "code",
   "execution_count": 89,
   "metadata": {},
   "outputs": [
    {
     "name": "stderr",
     "output_type": "stream",
     "text": [
      "/home/yannick/anaconda2/envs/tensorflow/lib/python3.6/site-packages/sklearn/model_selection/_validation.py:837: RuntimeWarning: Removed duplicate entries from 'train_sizes'. Number of ticks will be less than the size of 'train_sizes' 49 instead of 50).\n",
      "  % (train_sizes_abs.shape[0], n_ticks), RuntimeWarning)\n",
      "/home/yannick/anaconda2/envs/tensorflow/lib/python3.6/site-packages/sklearn/naive_bayes.py:455: RuntimeWarning: divide by zero encountered in log\n",
      "  self.class_log_prior_ = (np.log(self.class_count_) -\n",
      "/home/yannick/anaconda2/envs/tensorflow/lib/python3.6/site-packages/sklearn/naive_bayes.py:455: RuntimeWarning: divide by zero encountered in log\n",
      "  self.class_log_prior_ = (np.log(self.class_count_) -\n",
      "/home/yannick/anaconda2/envs/tensorflow/lib/python3.6/site-packages/sklearn/naive_bayes.py:455: RuntimeWarning: divide by zero encountered in log\n",
      "  self.class_log_prior_ = (np.log(self.class_count_) -\n",
      "/home/yannick/anaconda2/envs/tensorflow/lib/python3.6/site-packages/sklearn/naive_bayes.py:455: RuntimeWarning: divide by zero encountered in log\n",
      "  self.class_log_prior_ = (np.log(self.class_count_) -\n",
      "/home/yannick/anaconda2/envs/tensorflow/lib/python3.6/site-packages/sklearn/naive_bayes.py:455: RuntimeWarning: divide by zero encountered in log\n",
      "  self.class_log_prior_ = (np.log(self.class_count_) -\n",
      "/home/yannick/anaconda2/envs/tensorflow/lib/python3.6/site-packages/sklearn/naive_bayes.py:455: RuntimeWarning: divide by zero encountered in log\n",
      "  self.class_log_prior_ = (np.log(self.class_count_) -\n",
      "/home/yannick/anaconda2/envs/tensorflow/lib/python3.6/site-packages/sklearn/naive_bayes.py:455: RuntimeWarning: divide by zero encountered in log\n",
      "  self.class_log_prior_ = (np.log(self.class_count_) -\n",
      "/home/yannick/anaconda2/envs/tensorflow/lib/python3.6/site-packages/sklearn/naive_bayes.py:455: RuntimeWarning: divide by zero encountered in log\n",
      "  self.class_log_prior_ = (np.log(self.class_count_) -\n",
      "/home/yannick/anaconda2/envs/tensorflow/lib/python3.6/site-packages/sklearn/naive_bayes.py:455: RuntimeWarning: divide by zero encountered in log\n",
      "  self.class_log_prior_ = (np.log(self.class_count_) -\n",
      "/home/yannick/anaconda2/envs/tensorflow/lib/python3.6/site-packages/sklearn/naive_bayes.py:455: RuntimeWarning: divide by zero encountered in log\n",
      "  self.class_log_prior_ = (np.log(self.class_count_) -\n",
      "/home/yannick/anaconda2/envs/tensorflow/lib/python3.6/site-packages/sklearn/naive_bayes.py:455: RuntimeWarning: divide by zero encountered in log\n",
      "  self.class_log_prior_ = (np.log(self.class_count_) -\n"
     ]
    }
   ],
   "source": [
    "_, best_train, best_test = learning_curve(best,x,y,train_sizes=np.linspace(0.001,1,50))"
   ]
  },
  {
   "cell_type": "code",
   "execution_count": 90,
   "metadata": {},
   "outputs": [
    {
     "data": {
      "image/png": "[encoded data removed]",
      "text/plain": [
       "<matplotlib.figure.Figure at 0x7fedb08ddc18>"
      ]
     },
     "metadata": {},
     "output_type": "display_data"
    }
   ],
   "source": [
    "train_score = np.sum(best_train,axis = 1)/3\n",
    "test_score = np.sum(best_test,axis = 1)/3\n",
    "plt.plot(range(train_score.shape[0]),train_score,range(train_score.shape[0]),test_score)\n",
    "plt.show()"
   ]
  },
  {
   "cell_type": "code",
   "execution_count": 91,
   "metadata": {},
   "outputs": [
    {
     "data": {
      "text/plain": [
       "0.83999999999999997"
      ]
     },
     "execution_count": 91,
     "metadata": {},
     "output_type": "execute_result"
    }
   ],
   "source": [
    "gscv_search.best_score_"
   ]
  },
  {
   "cell_type": "code",
   "execution_count": null,
   "metadata": {
    "collapsed": true
   },
   "outputs": [],
   "source": []
  }
 ],
 "metadata": {
  "kernelspec": {
   "display_name": "Python 3",
   "language": "python",
   "name": "python3"
  },
  "language_info": {
   "codemirror_mode": {
    "name": "ipython",
    "version": 3
   },
   "file_extension": ".py",
   "mimetype": "text/x-python",
   "name": "python",
   "nbconvert_exporter": "python",
   "pygments_lexer": "ipython3",
   "version": "3.6.1"
  }
 },
 "nbformat": 4,
 "nbformat_minor": 2
}
